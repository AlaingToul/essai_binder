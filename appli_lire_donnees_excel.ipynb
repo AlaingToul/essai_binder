{
 "cells": [
  {
   "attachments": {},
   "cell_type": "markdown",
   "metadata": {},
   "source": [
    "# Lecture de fichiers excels pour extraire des chroniques de données\n",
    "\n",
    "Les fichiers lus peuvent être de divers formats. L'extraction est adaptée selon le format de fichier\n"
   ]
  },
  {
   "cell_type": "markdown",
   "metadata": {},
   "source": [
    "\n",
    "## Lecture des données\n",
    "\n",
    "\n"
   ]
  },
  {
   "cell_type": "code",
   "execution_count": 7,
   "metadata": {},
   "outputs": [],
   "source": [
    "import pandas as pd\n",
    "import datetime as dt\n",
    "import numpy as np\n",
    "import matplotlib.pyplot as plt\n",
    "from matplotlib.legend_handler import HandlerLine2D\n",
    "\n",
    "# partie interactive\n",
    "import ipywidgets as widgets\n",
    "from IPython.display import display\n",
    "import glob\n",
    "\n",
    "# pour jupyter notebook\n",
    "%matplotlib widget\n"
   ]
  },
  {
   "cell_type": "code",
   "execution_count": 8,
   "metadata": {},
   "outputs": [
    {
     "data": {
      "application/vnd.jupyter.widget-view+json": {
       "model_id": "5a7023b13a424fda8382322dcb63b9f3",
       "version_major": 2,
       "version_minor": 0
      },
      "text/plain": [
       "Text(value='./', description='Chemin du fichier :', style=TextStyle(description_width='initial'))"
      ]
     },
     "metadata": {},
     "output_type": "display_data"
    }
   ],
   "source": [
    "# indiquer le chemin de sélection\n",
    "style = {'description_width': 'initial'}\n",
    "\n",
    "path = widgets.Text(\n",
    "    description='Chemin du fichier :',\n",
    "    value='./',\n",
    "    style=style\n",
    ")\n",
    "\n",
    "display(path)"
   ]
  },
  {
   "cell_type": "code",
   "execution_count": 9,
   "metadata": {},
   "outputs": [
    {
     "data": {
      "application/vnd.jupyter.widget-view+json": {
       "model_id": "59e13bc99a89474ca6d88be1f2d62a1e",
       "version_major": 2,
       "version_minor": 0
      },
      "text/plain": [
       "SelectMultiple(description='fichiers ', options=('./',), value=())"
      ]
     },
     "metadata": {},
     "output_type": "display_data"
    }
   ],
   "source": [
    "options = glob.glob(f'{path.value}')\n",
    "\n",
    "files = widgets.SelectMultiple(\n",
    "    description='fichiers ',\n",
    "    options=options)\n",
    "\n",
    "display(files)"
   ]
  },
  {
   "cell_type": "code",
   "execution_count": null,
   "metadata": {},
   "outputs": [],
   "source": [
    "print(files.value)"
   ]
  }
 ],
 "metadata": {
  "kernelspec": {
   "display_name": "test_voila",
   "language": "python",
   "name": "python3"
  },
  "language_info": {
   "codemirror_mode": {
    "name": "ipython",
    "version": 3
   },
   "file_extension": ".py",
   "mimetype": "text/x-python",
   "name": "python",
   "nbconvert_exporter": "python",
   "pygments_lexer": "ipython3",
   "version": "3.12.6"
  }
 },
 "nbformat": 4,
 "nbformat_minor": 4
}
